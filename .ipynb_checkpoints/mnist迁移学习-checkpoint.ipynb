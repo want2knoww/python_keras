{
 "cells": [
  {
   "cell_type": "code",
   "execution_count": 16,
   "id": "783eb675",
   "metadata": {},
   "outputs": [],
   "source": [
    "import keras\n",
    "from keras.datasets import mnist\n",
    "from keras.models import Sequential,Model\n",
    "from keras.layers import Dense,Dropout,MaxPooling2D,GlobalAveragePooling2D\n",
    "from keras.layers import Activation , Flatten, Conv2D\n",
    "from keras import applications\n",
    "import numpy as np\n",
    "import cv2\n",
    "\n",
    "batch_size = 32\n",
    "num_classes = 10\n",
    "epochs = 5\n",
    "\n",
    "img_width,img_height = 224,224\n",
    "\n",
    "(x_train,y_train),(x_test,y_test) = mnist.load_data()\n",
    "x_train = x_train[:500]\n",
    "y_train = y_train[:500]\n",
    "x_test = x_test[:50]\n",
    "y_test = y_test[:50]\n",
    "x_train = [cv2.cvtColor(cv2.resize(i,(img_width,img_height)),cv2.COLOR_GRAY2BGR) for i in x_train]\n",
    "x_train = np.array([i.astype('float32') for i in x_train])\n",
    "x_test = [cv2.cvtColor(cv2.resize(i,(img_width,img_height)),cv2.COLOR_GRAY2BGR) for i in x_test]\n",
    "x_test = np.array([i.astype('float32') for i in x_test])"
   ]
  },
  {
   "cell_type": "code",
   "execution_count": 17,
   "id": "df3e3398",
   "metadata": {},
   "outputs": [
    {
     "name": "stdout",
     "output_type": "stream",
     "text": [
      "(500, 224, 224, 3)\n",
      "(50, 224, 224, 3)\n"
     ]
    }
   ],
   "source": [
    "print(x_train.shape)\n",
    "print(x_test.shape)"
   ]
  },
  {
   "cell_type": "code",
   "execution_count": 18,
   "id": "9dff0e9a",
   "metadata": {},
   "outputs": [
    {
     "name": "stdout",
     "output_type": "stream",
     "text": [
      "Model: \"vgg16\"\n",
      "_________________________________________________________________\n",
      " Layer (type)                Output Shape              Param #   \n",
      "=================================================================\n",
      " input_4 (InputLayer)        [(None, 224, 224, 3)]     0         \n",
      "                                                                 \n",
      " block1_conv1 (Conv2D)       (None, 224, 224, 64)      1792      \n",
      "                                                                 \n",
      " block1_conv2 (Conv2D)       (None, 224, 224, 64)      36928     \n",
      "                                                                 \n",
      " block1_pool (MaxPooling2D)  (None, 112, 112, 64)      0         \n",
      "                                                                 \n",
      " block2_conv1 (Conv2D)       (None, 112, 112, 128)     73856     \n",
      "                                                                 \n",
      " block2_conv2 (Conv2D)       (None, 112, 112, 128)     147584    \n",
      "                                                                 \n",
      " block2_pool (MaxPooling2D)  (None, 56, 56, 128)       0         \n",
      "                                                                 \n",
      " block3_conv1 (Conv2D)       (None, 56, 56, 256)       295168    \n",
      "                                                                 \n",
      " block3_conv2 (Conv2D)       (None, 56, 56, 256)       590080    \n",
      "                                                                 \n",
      " block3_conv3 (Conv2D)       (None, 56, 56, 256)       590080    \n",
      "                                                                 \n",
      " block3_pool (MaxPooling2D)  (None, 28, 28, 256)       0         \n",
      "                                                                 \n",
      " block4_conv1 (Conv2D)       (None, 28, 28, 512)       1180160   \n",
      "                                                                 \n",
      " block4_conv2 (Conv2D)       (None, 28, 28, 512)       2359808   \n",
      "                                                                 \n",
      " block4_conv3 (Conv2D)       (None, 28, 28, 512)       2359808   \n",
      "                                                                 \n",
      " block4_pool (MaxPooling2D)  (None, 14, 14, 512)       0         \n",
      "                                                                 \n",
      " block5_conv1 (Conv2D)       (None, 14, 14, 512)       2359808   \n",
      "                                                                 \n",
      " block5_conv2 (Conv2D)       (None, 14, 14, 512)       2359808   \n",
      "                                                                 \n",
      " block5_conv3 (Conv2D)       (None, 14, 14, 512)       2359808   \n",
      "                                                                 \n",
      " block5_pool (MaxPooling2D)  (None, 7, 7, 512)         0         \n",
      "                                                                 \n",
      "=================================================================\n",
      "Total params: 14,714,688\n",
      "Trainable params: 14,714,688\n",
      "Non-trainable params: 0\n",
      "_________________________________________________________________\n",
      "None\n"
     ]
    }
   ],
   "source": [
    "x_train /= 255\n",
    "x_test /= 255\n",
    "\n",
    "y_train = keras.utils.to_categorical(y_train,num_classes)\n",
    "y_test = keras.utils.to_categorical(y_test,num_classes)\n",
    "\n",
    "model = applications.VGG16(weights = 'imagenet',include_top=False,input_shape=(img_width,img_height,3))\n",
    "print(model.summary())"
   ]
  },
  {
   "cell_type": "code",
   "execution_count": 19,
   "id": "bc4bc7d6",
   "metadata": {},
   "outputs": [],
   "source": [
    "x = model.output\n",
    "x = Flatten()(x)\n",
    "predictions = Dense(num_classes,activation='softmax')(x)\n",
    "\n",
    "model_final = Model(inputs = model.input, outputs = predictions)\n",
    "\n",
    "model_final.compile(loss=keras.losses.categorical_crossentropy,optimizer = keras.optimizers.Adadelta(),metrics=['accuracy'])"
   ]
  },
  {
   "cell_type": "code",
   "execution_count": 20,
   "id": "7250c33d",
   "metadata": {},
   "outputs": [
    {
     "name": "stdout",
     "output_type": "stream",
     "text": [
      "Epoch 1/5\n",
      "125/125 [==============================] - 34s 172ms/step - loss: 2.2773 - accuracy: 0.1760 - val_loss: 2.1139 - val_accuracy: 0.3800\n",
      "Epoch 2/5\n",
      "125/125 [==============================] - 20s 157ms/step - loss: 1.9222 - accuracy: 0.4960 - val_loss: 1.7483 - val_accuracy: 0.6800\n",
      "Epoch 3/5\n",
      "125/125 [==============================] - 20s 156ms/step - loss: 1.3579 - accuracy: 0.7780 - val_loss: 1.0956 - val_accuracy: 0.7800\n",
      "Epoch 4/5\n",
      "125/125 [==============================] - 20s 156ms/step - loss: 0.6705 - accuracy: 0.8800 - val_loss: 0.5243 - val_accuracy: 0.9200\n",
      "Epoch 5/5\n",
      "125/125 [==============================] - 20s 156ms/step - loss: 0.3380 - accuracy: 0.9160 - val_loss: 0.3150 - val_accuracy: 0.9200\n",
      "test score: 0.31502100825309753\n",
      "test accuracy: 0.31502100825309753\n"
     ]
    }
   ],
   "source": [
    "model_final.fit(x_train,y_train,batch_size=4,epochs=epochs,verbose=1,validation_data=(x_test,y_test))\n",
    "score = model_final.evaluate(x_test,y_test,verbose=0)\n",
    "print('test score:',score[0])\n",
    "print('test accuracy:',score[0])"
   ]
  },
  {
   "cell_type": "code",
   "execution_count": null,
   "id": "0111d081",
   "metadata": {},
   "outputs": [],
   "source": []
  }
 ],
 "metadata": {
  "kernelspec": {
   "display_name": "gsfdeep",
   "language": "python",
   "name": "gsfdeep"
  },
  "language_info": {
   "codemirror_mode": {
    "name": "ipython",
    "version": 3
   },
   "file_extension": ".py",
   "mimetype": "text/x-python",
   "name": "python",
   "nbconvert_exporter": "python",
   "pygments_lexer": "ipython3",
   "version": "3.8.17"
  }
 },
 "nbformat": 4,
 "nbformat_minor": 5
}
